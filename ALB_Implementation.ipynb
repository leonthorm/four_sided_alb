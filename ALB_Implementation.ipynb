{
 "cells": [
  {
   "cell_type": "markdown",
   "id": "eea27d75",
   "metadata": {},
   "source": [
    "### Objectives\n",
    "\n",
    "(1) Minimize the number of station sides activated and penalize their activation using weights μ1 and μ2.\n",
    "\n",
    "(2) Minimize the total cost of using agents C(a) (humans or robots).\n",
    "\n",
    "### Contraints\n",
    "\n",
    "(3) Each task j must be assigned to exactly one mated-station m and one side h.\n",
    "\n",
    "(4) Tasks that are performed on beneath-side stations (set us) must be assigned to one station from the set MU (mated stations with beneath-side infrastructure).\n",
    "\n",
    "(5) Tasks that are performed on above-side stations (set ps) must be assigned to one station from the set MP (mated stations with above-side infrastructure).\n",
    "\n",
    "(6) An agent a can only be assigned to one station and side at a time.\n",
    "\n",
    "(7) Humans are only assigned to the established station: A side h in station m can only be activated if an agent a is assigned to it.\n",
    "\n",
    "(8) No agents from the subset o(a) are assigned to side 4 (above-side) in any station m.\n",
    "o(a): Refers to a subset of agents, presumably humans, as tasks on the above-side (side 4) are meant to be performed exclusively by robots.\n",
    "\n",
    "**Constraint (9) and (10) define the cycle time which each task must be finished during the cycle time:**\n",
    "\n",
    "(9) The finishing time of task j for product model n must not exceed the cycle time cy.\n",
    "\n",
    "(10) The finishing time of task j for product model n must be greater than or equal to its real processing time r.\n",
    "\n",
    "(11) Calculates the real processing time for each task j and model n, accounting for the agent performing it, the station, and the side.\n",
    "\n",
    "**Constraints (12) and (13) are for tasks that include in pi(j) (Set of immediate predecessors of task j)**\n",
    "\n",
    "(12) 2 tasks have different mated-station: If task i is a predecessor of task j, task i must be assigned to a station earlier (or the same station as) task j.\n",
    "\n",
    "(13) 2 tasks are in the same mated-station: Task j starts only after its predecessor task i is completed. The ϕ-based terms deactivate this constraint when the tasks are not assigned to the same station-side configuration.\n",
    "\n",
    "**Constraints (14) and (15) are for tasks which do not have any predecessor and successor relationships.**\n",
    "\n",
    "(14) The precedence relationship and timing between tasks j and k are respected, but the assignment of k to its station-side xkmh is directly required.\n",
    "\n",
    "(15) Timing relationship is reversed, i.e., task k must complete before task j starts, based on the sequence variable yjk, while maintaining strict enforcement on xkmh.\n",
    "\n",
    "**Constraints (16) and (17) calculate the number of different mated-stations which include one-sided mated-stations, two-sided mated-stations, three-sided mated-stations and four-sided mated-stations.**\n",
    "\n",
    "(16) Tasks j can only be assigned to a station-side if that side zmh is activated. (If zmh=0, this constraint ensures no tasks are assigned to that side).\n",
    "\n",
    "(17) Ensures consistency between the number of sides zmh utilized in a station m and the values of α,β,θ,γ (If zmh indicates one side is used, α=1, and β,θ,γ=0).\n",
    "\n",
    "**Constraints (18) and (19) define zoning constraints that include positive and negative constraint.**\n",
    "\n",
    "(18) More than one task is assigned to a station: Tasks j and i, which have a positive constraint (po), are assigned to the same side h.\n",
    "\n",
    "(19) Only one task is assigned to a station: Tasks j and i, which have a negative constraint (ne), are not assigned to the same side of station m.\n",
    "\n",
    "**Constraints (20) and (21) define the synchronous constraint which means if two tasks must be done together synchronously, they would be assigned to the same mated-station.**\n",
    "\n",
    "(20) Tasks j and i, which have a synchronous constraint (se), are assigned to different sides l≠h of the same station m.\n",
    "\n",
    "(21) Tasks j and i, which have a synchronous constraint (se), have synchronized finishing times across sides.\n",
    "\n",
    "**In constraints (22) and (24), if the task must be performed by a human, ensure that human is assigned to that station.** \n",
    "\n",
    "(22) vI,mh is activated if and only if at least one task in to (Set of tasks which humans perform) is assigned to station m, side h.\n",
    "\n",
    "(24) Prevents agents from the subset r(a) from being assigned to sides where tasks from to are assigned.\n",
    "\n",
    "**In constraints (23) and (25),if the task must be performed by a robot, ensure that the robot is assigned to that station.**\n",
    "\n",
    "(23) vII,mh is activated only if tasks from tr are assigned.\n",
    "\n",
    "(25) Prevents agents from the subset o(a) from being assigned to sides where tasks from tr are assigned."
   ]
  },
  {
   "cell_type": "code",
   "execution_count": null,
   "id": "87c58098",
   "metadata": {},
   "outputs": [],
   "source": [
    "from gurobipy import Model, GRB, quicksum\n",
    "import random\n",
    "import pandas as pd\n",
    "from collections import defaultdict\n",
    "\n",
    "# Create model\n",
    "model = Model(\"4-Sided ALB\")"
   ]
  },
  {
   "cell_type": "code",
   "execution_count": null,
   "id": "8a039c03",
   "metadata": {},
   "outputs": [],
   "source": [
    "# sets\n",
    "tasks = []  # Set of tasks\n",
    "mated_stations = []  # Set of mated stations\n",
    "sides = [1, 2, 3, 4] # Sides (1=left, 2=right, 3=beneath, 4=above)\n",
    "agents = []  # Set of agents\n",
    "product_models = []  # Set of product models"
   ]
  },
  {
   "cell_type": "code",
   "execution_count": null,
   "id": "74b32d3d",
   "metadata": {},
   "outputs": [],
   "source": [
    "J = len(tasks)\n",
    "M = len(mated_stations)\n",
    "N = len(product_models)\n",
    "H = len(sides)\n",
    "A = len(agents)"
   ]
  },
  {
   "cell_type": "code",
   "execution_count": null,
   "id": "d94f3be9",
   "metadata": {},
   "outputs": [],
   "source": [
    "# Parameters\n",
    "# Mated-stations\n",
    "MU = set()  # with beneath-side tasks\n",
    "MP = set()  # with above-side tasks\n",
    "\n",
    "# Subsets of tasks: Tasks accomplished at a X-side station\n",
    "ls = set()  # left\n",
    "rs = set()  # right \n",
    "bs = set()  # both left and right\n",
    "us = set()  # beneath\n",
    "ps = set()  # above\n",
    "\n",
    "# Tasks based on agents\n",
    "to = set()  # Tasks humans perform\n",
    "tr = set()  # Tasks robots perform\n",
    "tb = set()  # Tasks both humans and robots can perform\n",
    "\n",
    "# Task dependencies\n",
    "sa = {j: set() for j in tasks}  # All successors of task j\n",
    "si = {j: set() for j in tasks}  # Immediate successors of task j\n",
    "pa = {j: set() for j in tasks}  # All predecessors of task j\n",
    "pi = {j: set() for j in tasks}  # Immediate predecessors of task j\n",
    "pn = set()  # Tasks with no immediate predecessors\n",
    "\n",
    "# Costs and times\n",
    "C = {a: cost_a for a in agents}  # Cost of utilizing agent `a`\n",
    "cy = 0  # Cycle time (define a value or decision variable)\n",
    "t_ajn = {(j, n, a): time_jna for j in tasks for n in product_models for a in agents}  # Processing time of task `j` for model `n` by agent `a`\n",
    "\n",
    "# Mated-stations\n",
    "f = {(m, h): mated_station_set for m in mated_stations for h in sides}  # Set of mated-stations with assignment side `h`\n",
    "\n",
    "# Zoning constraints: Pairs of tasks for X zoning constraints\n",
    "po = set()  # positive \n",
    "ne = set()  # negative\n",
    "se = set()  # synchronous constraints\n",
    "\n",
    "# Weights and constraints\n",
    "phi = 1e6  # Large number\n",
    "mu_1 = 0.6  # Opened mated-station weight (define a value)\n",
    "mu_2 = 0.3  # Opened station weight (define a value)"
   ]
  },
  {
   "cell_type": "markdown",
   "id": "568cbe5b",
   "metadata": {},
   "source": [
    "### Numeric example"
   ]
  },
  {
   "cell_type": "code",
   "execution_count": null,
   "id": "40fd4110",
   "metadata": {},
   "outputs": [],
   "source": [
    "A = 20  # Number of agents\n",
    "J = 30  # Number of tasks\n",
    "M = 5   # Number of mated stations\n",
    "N = 3   # Number of product models\n",
    "H = [1, 2, 3, 4]  # Sides"
   ]
  },
  {
   "cell_type": "code",
   "execution_count": null,
   "id": "77e83a0d",
   "metadata": {},
   "outputs": [],
   "source": [
    "# Provided data (data_modified)\n",
    "robots = {0, 1, 2, 3, 4, 5, 6, 7, 8, 9}  \n",
    "humans = {10, 11, 12, 13, 14, 15, 16, 17, 18, 19}  \n",
    "ls = [0, 1, 2, 3]  \n",
    "bs = [4, 5, 6, 7, 8, 9, 10, 11, 12, 13, 14]  \n",
    "rs = [15, 16, 17, 18, 19] \n",
    "us = [20, 21, 22, 23, 24, 25]  \n",
    "ps = [26, 27, 28, 29]  \n",
    "tb = [0, 2, 3, 5, 7, 9, 11, 13, 14, 16, 18]  \n",
    "to = [1, 4, 6, 12, 17]  \n",
    "tr = [8, 10, 15, 19, 20, 21, 22, 23, 24, 25, 26, 27, 28, 29]  \n",
    "MU = [1, 2]  \n",
    "MP = [2, 3]  \n",
    "f_mh = [(0, 0), (0, 1), (1, 0), (1, 1), (1, 2), (2, 0), (2, 1), (2, 2), (2, 3),\n",
    "        (3, 0), (3, 1), (3, 3), (4, 0), (4, 1)] \n",
    "cy = 100\n",
    "phi = 999000000\n",
    "mu_1 = 0.6\n",
    "mu_2 = 0.3\n",
    "C = {a: random.uniform(30, 50) for a in range(A)}\n",
    "t_ajn = {(j, n, a): random.uniform(3, 15) for j in range(J) for a in range(A) for n in range(N)}\n",
    "\n",
    "po = {(0, 1)}  \n",
    "ne = {(0, 29), (0, 4)}  \n",
    "se = {(3, 5)}  \n",
    "sa = {\n",
    "    (1, 7), (1, 8), (3, 10), (4, 9), (4, 29), (8, 11), (8, 13), (10, 11),\n",
    "    (10, 15), (14, 22), (14, 29), (1, 11), (1, 13), (3, 11), (3, 15)\n",
    "}\n",
    "pa = {\n",
    "    (7, 1), (8, 1), (10, 3), (9, 4), (29, 4), (11, 8), (13, 8), (11, 10), (15, 10),\n",
    "    (22, 14), (29, 14), (11, 1), (13, 1), (11, 3), (15, 3)\n",
    "}\n",
    "\n",
    "# Define robots and humans sub-sets\n",
    "def r(agents=list(range(A))):\n",
    "    return [a for a in agents if a in robots]\n",
    "\n",
    "def o(agents=list(range(A))):\n",
    "    return [a for a in agents if a in humans] "
   ]
  },
  {
   "cell_type": "code",
   "execution_count": null,
   "id": "4b220e53",
   "metadata": {},
   "outputs": [],
   "source": [
    "# Initialize pi with empty sets for all tasks\n",
    "pi = {j: set() for j in range(J)}\n",
    "\n",
    "# Using pa\n",
    "for (j, i) in pa:  # (j,i) means j is a predecessor of i\n",
    "    if (j, i) not in sa:  # If j is not an indirect predecessor via another task\n",
    "        pi[i].add(j)\n",
    "\n",
    "# Using sa\n",
    "for (i, j) in sa:  # (i,j) means i is a direct predecessor of j\n",
    "    if (j, i) not in pa:  # If j is not an indirect successor via another task\n",
    "        pi[j].add(i)\n",
    "\n",
    "# Include se relationships in pi\n",
    "for (i, j) in se:\n",
    "    pi[j].add(i)\n",
    "    pi[i].add(j) "
   ]
  },
  {
   "cell_type": "code",
   "execution_count": null,
   "id": "3c595fb0",
   "metadata": {},
   "outputs": [],
   "source": [
    "# Convert sa,pa to dictionaries\n",
    "sa_dict = defaultdict(set)\n",
    "for key, value in sa:\n",
    "    sa_dict[key].add(value)\n",
    "\n",
    "pa_dict = defaultdict(set)\n",
    "for key, value in pa:\n",
    "    pa_dict[key].add(value)\n",
    "\n",
    "sa = dict(sa_dict)\n",
    "pa = dict(pa_dict)\n",
    "\n",
    "for j in range(J):\n",
    "    sa.setdefault(j, set())  # Add task with empty successors if missing\n",
    "    pa.setdefault(j, set()) "
   ]
  },
  {
   "cell_type": "code",
   "execution_count": null,
   "id": "e12fb255",
   "metadata": {},
   "outputs": [],
   "source": [
    "# Task sets\n",
    "ls = set(ls)  # Left-side tasks\n",
    "rs = set(rs)  # Right-side tasks\n",
    "bs = set(bs)  # Beneath-side tasks\n",
    "us = set(us)  # Beneath-side tasks\n",
    "ps = set(ps)  # Above-side tasks\n",
    "\n",
    "# Tasks with opposite directions\n",
    "D_j = {}\n",
    "for j in range(J):\n",
    "    if j in rs:\n",
    "        D_j[j] = ls.union(us).union(ps)\n",
    "    elif j in ls:\n",
    "        D_j[j] = rs.union(us).union(ps)\n",
    "    elif j in bs:\n",
    "        D_j[j] = us.union(ps)\n",
    "    elif j in us:\n",
    "        D_j[j] = ls.union(rs).union(bs).union(ps)\n",
    "    elif j in ps:\n",
    "        D_j[j] = ls.union(rs).union(us).union(bs)\n",
    "    else:\n",
    "        D_j[j] = set()  # No opposite tasks\n",
    "        \n",
    "# Preferred sides (directions) for task j\n",
    "H_j = {}\n",
    "for j in range(J):\n",
    "    if j in rs:\n",
    "        H_j[j] = {1}  # Right-side\n",
    "    elif j in ls:\n",
    "        H_j[j] = {2}  # Left-side\n",
    "    elif j in us:\n",
    "        H_j[j] = {3}  # Beneath-side\n",
    "    elif j in ps:\n",
    "        H_j[j] = {4}  # Above-side\n",
    "    elif j in bs:\n",
    "        H_j[j] = {1, 2}  # Left and right sides\n",
    "    else:\n",
    "        H_j[j] = set()  # No valid sides (optional)"
   ]
  },
  {
   "cell_type": "code",
   "execution_count": null,
   "id": "9ec2096a",
   "metadata": {},
   "outputs": [],
   "source": [
    "# Variables\n",
    "x = model.addVars(J, M, H, vtype=GRB.BINARY, name=\"x\")  # Task assignment to mated-station and side\n",
    "z = model.addVars(M, H, vtype=GRB.BINARY, name=\"z\")  # Station-side utilization\n",
    "y = model.addVars(J, J, vtype=GRB.BINARY, name=\"y\") #task j is assigned earlier than task k in the same station\n",
    "q = model.addVars(A, H, M, vtype=GRB.BINARY, name=\"q\")  # Agent assignment to station-side\n",
    "t_f = model.addVars(J, N, vtype=GRB.CONTINUOUS, name=\"t_f\")  # Finishing time\n",
    "rr = model.addVars(J, N, vtype=GRB.CONTINUOUS, name=\"rr\")  # Real time\n",
    "alpha = model.addVars(M, vtype=GRB.BINARY, name=\"alpha\")\n",
    "beta = model.addVars(M, vtype=GRB.BINARY, name=\"beta\")\n",
    "theta = model.addVars(M, vtype=GRB.BINARY, name=\"theta\")\n",
    "gamma = model.addVars(M, vtype=GRB.BINARY, name=\"gamma\")\n",
    "v_I = model.addVars(M, H, vtype=GRB.BINARY, name=\"v_I\")\n",
    "v_II = model.addVars(M, H, vtype=GRB.BINARY, name=\"v_II\")\n",
    "cy = model.addVar(lb=0, name=\"cy\")"
   ]
  },
  {
   "cell_type": "code",
   "execution_count": null,
   "id": "b490261c",
   "metadata": {},
   "outputs": [],
   "source": [
    "# Objective (1): Minimize number of stations and mated-stations\n",
    "model.setObjective(\n",
    "    mu_1 * quicksum(alpha[m] + beta[m] + theta[m] + gamma[m] for m in range(M)) +\n",
    "    mu_2 * quicksum(z[m, h] for m in range(M) for h in sides),\n",
    "    GRB.MINIMIZE\n",
    ")\n",
    "\n",
    "# Objective (2): Minimize agent utilization cost\n",
    "#agent_cost = quicksum(C[a] * quicksum(q[a, h, m] for h in sides for m in range(M)) for a in range(A))\n",
    "#model.setObjective(agent_cost, GRB.MINIMIZE)"
   ]
  },
  {
   "cell_type": "code",
   "execution_count": null,
   "id": "868038d9",
   "metadata": {},
   "outputs": [],
   "source": [
    "# Constraint (3): Each task is assigned to only one side of a mated-station\n",
    "model.addConstrs(\n",
    "    (quicksum(x[j, m, h] for m in range(M) for h in sides) == 1 for j in range(J)), \n",
    "    name=\"task_assignment\"\n",
    ")"
   ]
  },
  {
   "cell_type": "code",
   "execution_count": null,
   "id": "d5303f84",
   "metadata": {},
   "outputs": [],
   "source": [
    "# Constraint (4): Beneath-side tasks are assigned to beneath stations\n",
    "model.addConstrs(\n",
    "    (quicksum(x[j, m, h] for m in MU for h in sides) == 1 for j in us),\n",
    "    name=\"beneath_side_task_assignment\"\n",
    ")"
   ]
  },
  {
   "cell_type": "code",
   "execution_count": null,
   "id": "ad2fe044",
   "metadata": {},
   "outputs": [],
   "source": [
    "# Constraint (5): Above-side tasks are assigned to above stations\n",
    "model.addConstrs(\n",
    "    (quicksum(x[j, m, h] for m in MP for h in sides if h in [4]) == 1 for j in ps if j < J), # Ensure tasks are within range\n",
    "    name=\"above_side_task_assignment\"\n",
    ")"
   ]
  },
  {
   "cell_type": "code",
   "execution_count": null,
   "id": "ede328c1",
   "metadata": {},
   "outputs": [],
   "source": [
    "#"
   ]
  },
  {
   "cell_type": "code",
   "execution_count": null,
   "id": "76b9e1b8",
   "metadata": {},
   "outputs": [],
   "source": [
    "# Constraint (6): Each agent is assigned to at most one station\n",
    "model.addConstrs(\n",
    "    (quicksum(q[a, h, m] for m in range(M) for h in sides) <= 1 for a in range(A)),\n",
    "    name=\"agent_assignment\"\n",
    ")"
   ]
  },
  {
   "cell_type": "code",
   "execution_count": null,
   "id": "0689f782",
   "metadata": {},
   "outputs": [],
   "source": [
    "# Constraint (7): Humans are only assigned to established stations \n",
    "# range(A) or  o(agents)\n",
    "model.addConstrs(\n",
    "    (quicksum(q[a, h, m] for a in range(A)) == z[m, h] for m in range(M) for h in sides),\n",
    "    name=\"human_station_assignment\"\n",
    ")"
   ]
  },
  {
   "cell_type": "code",
   "execution_count": null,
   "id": "da7507eb",
   "metadata": {},
   "outputs": [],
   "source": [
    "# Constraint (8): Above-side tasks are done only by robots\n",
    "model.addConstrs(\n",
    "    (quicksum(q[a, 4, m] for a in o(agents)) == 0 for m in range(M)),\n",
    "    name=\"robots_only_above\"\n",
    ")"
   ]
  },
  {
   "cell_type": "code",
   "execution_count": null,
   "id": "8cf67fd8",
   "metadata": {},
   "outputs": [],
   "source": [
    "# Constraint (9): Task finish time ≤ cycle time\n",
    "model.addConstrs(\n",
    "    (t_f[j, n] <= cy for j in range(J) for n in range(N)),\n",
    "    name=\"cycle_time_upper_bound\"\n",
    ")"
   ]
  },
  {
   "cell_type": "code",
   "execution_count": null,
   "id": "6ac3f5ce",
   "metadata": {},
   "outputs": [],
   "source": [
    "# Constraint (10): Task finish time ≥ real task time\n",
    "model.addConstrs(\n",
    "    (t_f[j, n] >= rr[j, n] for j in range(J) for n in range(N)),\n",
    "    name=\"cycle_time_lower_bound\"\n",
    ")"
   ]
  },
  {
   "cell_type": "code",
   "execution_count": null,
   "id": "deb40223",
   "metadata": {},
   "outputs": [],
   "source": [
    "# Constraint (11): rr_jn calculation\n",
    "model.addConstrs(\n",
    "    (\n",
    "        rr[j, n] == quicksum(\n",
    "            t_ajn[j, n, a] * x[j, m, h] * q[a, h, m]\n",
    "            for h in sides\n",
    "            for a in range(A)\n",
    "            for m in range(M)\n",
    "        )\n",
    "        for j in range(J)\n",
    "        for n in range(N)\n",
    "    ),\n",
    "    name=\"real_time_calculation\"\n",
    ")"
   ]
  },
  {
   "cell_type": "code",
   "execution_count": null,
   "id": "6c250d89",
   "metadata": {},
   "outputs": [],
   "source": [
    "# Constraint (12): Task precedence\n",
    "model.addConstrs(\n",
    "    (\n",
    "        quicksum(s * x[i, s, h] for s in range(M) for h in sides) <=\n",
    "        quicksum(m * x[j, m, h] for m in range(M) for h in sides)\n",
    "        for j in range(J) if j not in pn\n",
    "        for i in pi[j]  # Immediate predecessors of task j\n",
    "    ),\n",
    "    name=\"task_precedence\"\n",
    ")"
   ]
  },
  {
   "cell_type": "code",
   "execution_count": null,
   "id": "d44eb193",
   "metadata": {
    "scrolled": true
   },
   "outputs": [],
   "source": [
    "# Constraint (13): Task timing\n",
    "phi = 1e6  # Large constant\n",
    "model.addConstrs(\n",
    "    (\n",
    "        t_f[j, n] - t_f[i, n]\n",
    "        + phi * (1 - quicksum(x[i, m, h] for h in sides))\n",
    "        + phi * (1 - quicksum(x[j, m, h] for h in sides))\n",
    "        >= rr[j, n]\n",
    "        for j in range(J) if j not in pn\n",
    "        for i in pi[j]  # Immediate predecessors of task j\n",
    "        for m in range(M)\n",
    "        for n in range(N)\n",
    "    ),\n",
    "    name=\"task_timing\"\n",
    ")"
   ]
  },
  {
   "cell_type": "code",
   "execution_count": null,
   "id": "da85a318",
   "metadata": {},
   "outputs": [],
   "source": [
    "# Constraint (14): Task timing with precedence\n",
    "model.addConstrs(\n",
    "    (\n",
    "        t_f[k, n] - t_f[j, n] \n",
    "        + phi * (1 - x[j, m, h]) \n",
    "        + (1 - x[k, m, h]) \n",
    "        + phi * (1 - y[j, k]) \n",
    "        >= rr[k, n]\n",
    "        for j in range(J)\n",
    "        for n in range(N)\n",
    "        for k in range(J) if k != j and k not in pa[j] | sa[j] | D_j[j]\n",
    "        for m in range(M)\n",
    "        for h in H_j[j] & H_j[k]\n",
    "    ),\n",
    "    name=\"task_timing_precedence\"\n",
    ")"
   ]
  },
  {
   "cell_type": "code",
   "execution_count": null,
   "id": "68e12238",
   "metadata": {},
   "outputs": [],
   "source": [
    "# Constraint (15): Reverse task timing\n",
    "model.addConstrs(\n",
    "    (\n",
    "        t_f[j, n] - t_f[k, n] \n",
    "        + phi * (1 - x[j, m, h])  \n",
    "        + (1 - x[k, m, h])  \n",
    "        + phi * y[j, k]           \n",
    "        >= rr[j, n]\n",
    "        for j in range(J)\n",
    "        for n in range(N)\n",
    "        for k in range(J) if k != j and k not in pa[j] | sa[j] | D_j[j]\n",
    "        for m in range(M)\n",
    "        for h in H_j[j] & H_j[k]\n",
    "    ),\n",
    "    name=\"reverse_task_timing\"\n",
    ")"
   ]
  },
  {
   "cell_type": "code",
   "execution_count": null,
   "id": "f4a36d86",
   "metadata": {},
   "outputs": [],
   "source": [
    "# Constraint (16): Task assignment and station utilization\n",
    "model.addConstrs(\n",
    "    (quicksum(x[j, m, h] for j in range(J)) - phi * z[m, h] <= 0 for m in range(M) for h in sides),\n",
    "    name=\"station_task_assignment\"\n",
    ")"
   ]
  },
  {
   "cell_type": "code",
   "execution_count": null,
   "id": "8080ed12",
   "metadata": {},
   "outputs": [],
   "source": [
    "# Constraint (17): Station utilization logic\n",
    "model.addConstrs(\n",
    "    (quicksum(z[m, h] for h in sides) - 4 * gamma[m] - 3 * beta[m] - 2 * alpha[m] == 0 for m in range(M)),\n",
    "    name=\"station_utilization\"\n",
    ")"
   ]
  },
  {
   "cell_type": "code",
   "execution_count": null,
   "id": "57e04430",
   "metadata": {},
   "outputs": [],
   "source": [
    "# Constraint (18): Opposite task assignment\n",
    "model.addConstrs(\n",
    "    (x[j, m, h] - x[i, m, h] == 0 for (j, i) in po for m in range(M) for h in H_j[j] & H_j[i]),\n",
    "    name=\"opposite_task_assignment\"\n",
    ")"
   ]
  },
  {
   "cell_type": "code",
   "execution_count": null,
   "id": "4f6981dc",
   "metadata": {},
   "outputs": [],
   "source": [
    "# Constraint (19): Task assignment limits by sides\n",
    "model.addConstrs(\n",
    "    (quicksum(x[j, m, h] for h in H_j[j]) + quicksum(x[i, m, h] for h in H_j[i]) <= 1\n",
    "     for (j, i) in ne for m in range(M) if set(H_j[j]).intersection(H_j[i])),\n",
    "    name=\"task_assignment_limit\"\n",
    ")"
   ]
  },
  {
   "cell_type": "code",
   "execution_count": null,
   "id": "7a42aaca",
   "metadata": {},
   "outputs": [],
   "source": [
    "# Constraint (20): Distinct station assignments\n",
    "model.addConstrs(\n",
    "    (\n",
    "        x[j, m, l] - x[i, m, h] == 0\n",
    "        for (j, i) in se\n",
    "        for m in range(M)\n",
    "        for h in H_j[i]\n",
    "        for l in H_j[j]\n",
    "        if h != l\n",
    "    ),\n",
    "    name=\"distinct_station_assignment\"\n",
    ")"
   ]
  },
  {
   "cell_type": "code",
   "execution_count": null,
   "id": "11e99057",
   "metadata": {},
   "outputs": [],
   "source": [
    "# Constraint (21): Synchronize task times\n",
    "model.addConstrs(\n",
    "    (t_f[j, n] - rr[j, n] == t_f[i, n] - rr[i, n] for (j, i) in se for n in range(N)),\n",
    "    name=\"task_time_sync\"\n",
    ")"
   ]
  },
  {
   "cell_type": "code",
   "execution_count": null,
   "id": "3651cc1f",
   "metadata": {},
   "outputs": [],
   "source": [
    "# Constraint (22): Station capacity for vI\n",
    "model.addConstrs(\n",
    "    (quicksum(x[j, m, h] for j in to) <= phi * v_I[m, h] for m in range(M) for h in H_j[j]),\n",
    "    name=\"station_capacity_vI\"\n",
    ")"
   ]
  },
  {
   "cell_type": "code",
   "execution_count": null,
   "id": "5ad387d6",
   "metadata": {},
   "outputs": [],
   "source": [
    "# Constraint (23): Station capacity for vII\n",
    "model.addConstrs(\n",
    "    (quicksum(x[j, m, h] for j in tr) <= phi * v_II[m, h] for m in range(M) for h in H_j[j]),\n",
    "    name=\"station_capacity_vII\"\n",
    ")"
   ]
  },
  {
   "cell_type": "code",
   "execution_count": null,
   "id": "1d6762d0",
   "metadata": {},
   "outputs": [],
   "source": [
    "# Constraint (24): Agent assignment limits for vI\n",
    "model.addConstrs(\n",
    "    (quicksum(q[a, m, h] for a in r(agents)) <= 1 - v_I[m, h] for m in range(M) for h in sides),\n",
    "    name=\"agent_assignment_limit_vI\"\n",
    ")"
   ]
  },
  {
   "cell_type": "code",
   "execution_count": null,
   "id": "e77ca199",
   "metadata": {},
   "outputs": [],
   "source": [
    "# Constraint (25): Agent assignment limits for vII\n",
    "model.addConstrs(\n",
    "    (quicksum(q[a, m, h] for a in r(agents)) <= 1 - v_II[m, h] for m in range(M) for h in sides),\n",
    "    name=\"agent_assignment_limit_vII\"\n",
    ")"
   ]
  },
  {
   "cell_type": "code",
   "execution_count": null,
   "id": "f25bb386",
   "metadata": {},
   "outputs": [],
   "source": [
    "# Possible Extension "
   ]
  },
  {
   "cell_type": "code",
   "execution_count": null,
   "id": "77b8a222",
   "metadata": {
    "scrolled": true
   },
   "outputs": [],
   "source": [
    "model.update()\n",
    "print(\"Number of variables:\", model.NumVars)\n",
    "print(\"Number of constraints:\", model.NumConstrs)"
   ]
  },
  {
   "cell_type": "code",
   "execution_count": null,
   "id": "5dd409f9",
   "metadata": {},
   "outputs": [],
   "source": [
    "# Optimize the model\n",
    "model.optimize()"
   ]
  },
  {
   "cell_type": "code",
   "execution_count": null,
   "id": "aef67768",
   "metadata": {},
   "outputs": [],
   "source": [
    "if model.Status == GRB.OPTIMAL:\n",
    "    print(\"Optimal solution found!\")\n",
    "    \n",
    "    # Objective value\n",
    "    print(f\"Objective Value: {model.ObjVal}\")\n",
    "    \n",
    "    # Initialize list to store DataFrame rows\n",
    "    result_data = []\n",
    "    \n",
    "    for m in range(M):  # Loop over stations\n",
    "        for h in sides:  # Loop over sides\n",
    "            tasks_assigned = []\n",
    "            agents_assigned = []\n",
    "            completion_times = {\"A\": 0, \"B\": 0, \"C\": 0}\n",
    "            \n",
    "            for j in range(J):  # Loop over tasks\n",
    "                if x[j, m, h].X > 0.5:  \n",
    "                    tasks_assigned.append(j)\n",
    "                    for n in range(N):  \n",
    "                        completion_times[chr(65 + n)] += t_ajn[j, n, 0] # Completion time for each product\n",
    "            \n",
    "            for a in range(A):  # Loop over agents\n",
    "                if q[a, h, m].X > 0.5:  \n",
    "                    agents_assigned.append(a)\n",
    "            \n",
    "            if tasks_assigned:  \n",
    "                result_data.append({\n",
    "                    \"Station\": m + 1,\n",
    "                    \"Tasks\": \", \".join(map(str, tasks_assigned)),\n",
    "                    \"Side\": \"left\" if h == 1 else \"right\" if h == 2 else \"beneath\" if h == 3 else \"above\",\n",
    "                    \"Agent Number\": \", \".join(map(str, agents_assigned)),\n",
    "                    \"Completion Time A\": completion_times[\"A\"],\n",
    "                    \"Completion Time B\": completion_times[\"B\"],\n",
    "                    \"Completion Time C\": completion_times[\"C\"]\n",
    "                })\n",
    "    \n",
    "    # Convert to DataFrame\n",
    "    result_df = pd.DataFrame(result_data)\n",
    "    \n",
    "    # Display the DataFrame\n",
    "    print(result_df)\n",
    "else:\n",
    "    # Handle errors\n",
    "    if model.Status == GRB.INFEASIBLE:\n",
    "        print(\"The model is infeasible.\")\n",
    "    elif model.Status == GRB.UNBOUNDED:\n",
    "        print(\"The model is unbounded.\")\n",
    "    else:\n",
    "        print(f\"Optimization ended with status {model.Status}.\")"
   ]
  },
  {
   "cell_type": "code",
   "execution_count": null,
   "id": "fd8fd2c5",
   "metadata": {},
   "outputs": [],
   "source": [
    "# Check the optimization status\n",
    "if model.Status == GRB.OPTIMAL:\n",
    "    print(\"Optimal solution found!\")\n",
    "    \n",
    "    # Objective value\n",
    "    print(f\"Objective Value: {model.ObjVal}\")\n",
    "    \n",
    "    # Values of decision variables\n",
    "    print(\"\\nDecision Variables:\")\n",
    "    for v in model.getVars():\n",
    "        if v.X > 1e-6:  \n",
    "            print(f\"{v.VarName}: {v.X}\")\n",
    "    \n",
    "    # Task Assignments\n",
    "    print(\"\\nTask Assignments:\")\n",
    "    for j in range(J):\n",
    "        for m in range(M):\n",
    "            for h in sides:\n",
    "                if x[j, m, h].X > 0.5:  \n",
    "                    print(f\"Task {j} is assigned to mated station {m} on side {h}.\")\n",
    "                    \n",
    "    print(\"\\nAgent Assignments:\")\n",
    "    for a in range(A):\n",
    "        for m in range(M):\n",
    "            for h in sides:\n",
    "                if q[a, h, m].X > 0.5:  \n",
    "                    print(f\"Agent {a} is assigned to mated station {m} on side {h}.\")\n",
    "else:\n",
    "    # Handle errors\n",
    "    if model.Status == GRB.INFEASIBLE:\n",
    "        print(\"The model is infeasible.\")\n",
    "    elif model.Status == GRB.UNBOUNDED:\n",
    "        print(\"The model is unbounded.\")\n",
    "    else:\n",
    "        print(f\"Optimization ended with status {model.Status}.\")"
   ]
  },
  {
   "cell_type": "code",
   "execution_count": null,
   "id": "2f87586a",
   "metadata": {},
   "outputs": [],
   "source": [
    "# Debugging\n",
    "#model.computeIIS()\n",
    "#model.write(\"model.ilp\")"
   ]
  },
  {
   "cell_type": "code",
   "execution_count": null,
   "id": "6c519802",
   "metadata": {},
   "outputs": [],
   "source": [
    "#for c in model.getConstrs():\n",
    "    #if c.IISConstr:\n",
    "        #print(f\"Infeasible Constraint: {c.constrName}\")\n",
    "\n",
    "#for v in model.getVars():\n",
    "    #if v.IISLB:\n",
    "        #print(f\"Infeasible Lower Bound on Variable: {v.VarName}\")\n",
    "    #if v.IISUB:\n",
    "        #print(f\"Infeasible Upper Bound on Variable: {v.VarName}\")"
   ]
  }
 ],
 "metadata": {
  "kernelspec": {
   "display_name": "Python 3 (ipykernel)",
   "language": "python",
   "name": "python3"
  },
  "language_info": {
   "codemirror_mode": {
    "name": "ipython",
    "version": 3
   },
   "file_extension": ".py",
   "mimetype": "text/x-python",
   "name": "python",
   "nbconvert_exporter": "python",
   "pygments_lexer": "ipython3",
   "version": "3.9.7"
  }
 },
 "nbformat": 4,
 "nbformat_minor": 5
}
